{
 "cells": [
  {
   "cell_type": "markdown",
   "metadata": {},
   "source": [
    "# Python2的字节串\n",
    "`Python2`使用`'xxx'`作为**字节串字面值**，其类型为`<str>`，但`<str>`本质上是**字节串**\n",
    "\n",
    "我的终端是UTF-8编码，所以在终端键入字面值😂 ，实质输入的是字面值的字节序列`\\xf0\\x9f\\x98\\x82`。\n",
    "\n",
    "`Python2`解释器接收到这个字节序列，并原样存储到变量s中。"
   ]
  },
  {
   "cell_type": "code",
   "execution_count": 1,
   "metadata": {
    "collapsed": false
   },
   "outputs": [],
   "source": [
    "s= '😂'"
   ]
  },
  {
   "cell_type": "markdown",
   "metadata": {},
   "source": [
    "当我们打印`repr(s)`时，会打印变量s的内部表示，即**字节串**`\\xf0\\x9f\\x98\\x82`。它的类型为`<str>`，即**字节流**\n",
    "\n",
    "当我们使用print打印一个字节串`<str>`本身时，`python2`会原封不动地将这个字节串输出到stdout。\n",
    "\n",
    "因为我的终端编码为UTF-8，所以这个UTF-8编码的字节串`s`会被终端使用`utf-8`解码，打印出原样的抽象字符😂"
   ]
  },
  {
   "cell_type": "code",
   "execution_count": 2,
   "metadata": {
    "collapsed": false
   },
   "outputs": [
    {
     "name": "stdout",
     "output_type": "stream",
     "text": [
      "'\\xf0\\x9f\\x98\\x82' <type 'str'> 😂\n"
     ]
    }
   ],
   "source": [
    "print repr(s), type(s), s"
   ]
  },
  {
   "cell_type": "markdown",
   "metadata": {},
   "source": [
    "# Python2的字符串\n",
    "`Python2`使用`u'xxx'`作为**字符串字面值**，其类型为`<unicode>`，`<unicode>`是真正意义上的**字符串**，每一个字符都属于UCS。\n",
    "\n",
    "输入字面值的字节序列`\\xf0\\x9f\\x98\\x82`，但因为表明了这是一个**字符串字面值**，`python2`会将其自动解码为Unicode，存储入变量us中。"
   ]
  },
  {
   "cell_type": "code",
   "execution_count": 3,
   "metadata": {
    "collapsed": false
   },
   "outputs": [],
   "source": [
    "us = u'😂'"
   ]
  },
  {
   "cell_type": "markdown",
   "metadata": {},
   "source": [
    "当我们打印`repr(us)`时，会打印变量`us`的内部表示，即**字符串**`u'\\U0001f602'`。它的类型为`<unicode>`，包括了一个`<unicode>`字符。\n",
    "\n",
    "当我们使用print打印一个`<unicode>`字符串本身时，`python2`会使用系统调用，将这个**字符串**直接写回到控制台窗口，原样打印出😂"
   ]
  },
  {
   "cell_type": "code",
   "execution_count": 4,
   "metadata": {
    "collapsed": false
   },
   "outputs": [
    {
     "name": "stdout",
     "output_type": "stream",
     "text": [
      "u'\\U0001f602' <type 'unicode'> 😂\n"
     ]
    }
   ],
   "source": [
    "print repr(us), type(us), us"
   ]
  },
  {
   "cell_type": "markdown",
   "metadata": {},
   "source": [
    "# 字符串和字节串的关系\n",
    "`s`是一个**字节串**，其内容为`utf-8`编码的字符😂 ,即`\\xf0\\x9f\\x98\\x82`\n",
    "\n",
    "`us`是一个**字符串**，其内容为字符😂 本身。所以`s != us`。\n",
    "\n",
    "但如果我们对`s`这个字节流进行**`utf-8`解码**，就可以得到字符串`us`。\n",
    "\n",
    "同理，对`us`这个字符串进行**`utf-8`编码**，就可以得到字节串`s`"
   ]
  },
  {
   "cell_type": "code",
   "execution_count": 5,
   "metadata": {
    "collapsed": false
   },
   "outputs": [
    {
     "name": "stderr",
     "output_type": "stream",
     "text": [
      "/usr/local/anaconda2/lib/python2.7/site-packages/ipykernel/__main__.py:1: UnicodeWarning: Unicode equal comparison failed to convert both arguments to Unicode - interpreting them as being unequal\n",
      "  if __name__ == '__main__':\n"
     ]
    },
    {
     "data": {
      "text/plain": [
       "(True, True, False)"
      ]
     },
     "execution_count": 5,
     "metadata": {},
     "output_type": "execute_result"
    }
   ],
   "source": [
    "s.decode('utf-8') == us, us.encode('utf-8') == s,s == us\n"
   ]
  },
  {
   "cell_type": "markdown",
   "metadata": {},
   "source": [
    "# 字符串和字节串的转换\n",
    "\n",
    "这个地方是问题最多的地方了。\n",
    "\n",
    "### 1. 字符串 to 字节流\n",
    "\n",
    "我们有一个字符串😂 ，现在我想把它转换成字节流，怎么办？\n",
    "\n",
    "大多数新手想当然的想到的第一个办法自然是`str(us)`，来个“强制类型转换”吼不吼啊？\n",
    "\n",
    "可惜`str(us)`并不是那么简单的，在背后，实际执行的是：\n",
    "```python\n",
    "us.encode(sys.getdefaultencoding())  \n",
    "# Which is \n",
    "us.encode('ascii')\n",
    "```\n",
    "\n",
    "当字符串中只有ASCII字符时，这样做是可以的。但一旦含有其他非ASCII字符，就会出错！因为非ASCII字符无法进行ASCII编码。"
   ]
  },
  {
   "cell_type": "code",
   "execution_count": 6,
   "metadata": {
    "collapsed": false
   },
   "outputs": [
    {
     "name": "stdout",
     "output_type": "stream",
     "text": [
      "a 'a' <type 'str'>\n"
     ]
    },
    {
     "ename": "UnicodeEncodeError",
     "evalue": "'ascii' codec can't encode characters in position 0-1: ordinal not in range(128)",
     "output_type": "error",
     "traceback": [
      "\u001b[0;31m\u001b[0m",
      "\u001b[0;31mUnicodeEncodeError\u001b[0mTraceback (most recent call last)",
      "\u001b[0;32m<ipython-input-6-d1193c5a8063>\u001b[0m in \u001b[0;36m<module>\u001b[0;34m()\u001b[0m\n\u001b[1;32m      1\u001b[0m \u001b[0;32mprint\u001b[0m \u001b[0mstr\u001b[0m\u001b[0;34m(\u001b[0m\u001b[0;34mu'a'\u001b[0m\u001b[0;34m)\u001b[0m\u001b[0;34m,\u001b[0m \u001b[0mrepr\u001b[0m\u001b[0;34m(\u001b[0m\u001b[0mstr\u001b[0m\u001b[0;34m(\u001b[0m\u001b[0;34mu'a'\u001b[0m\u001b[0;34m)\u001b[0m\u001b[0;34m)\u001b[0m\u001b[0;34m,\u001b[0m \u001b[0mtype\u001b[0m\u001b[0;34m(\u001b[0m\u001b[0mstr\u001b[0m\u001b[0;34m(\u001b[0m\u001b[0;34mu'a'\u001b[0m\u001b[0;34m)\u001b[0m\u001b[0;34m)\u001b[0m\u001b[0;34m\u001b[0m\u001b[0m\n\u001b[0;32m----> 2\u001b[0;31m \u001b[0;32mprint\u001b[0m \u001b[0mstr\u001b[0m\u001b[0;34m(\u001b[0m\u001b[0mus\u001b[0m\u001b[0;34m)\u001b[0m\u001b[0;34m\u001b[0m\u001b[0m\n\u001b[0m",
      "\u001b[0;31mUnicodeEncodeError\u001b[0m: 'ascii' codec can't encode characters in position 0-1: ordinal not in range(128)"
     ]
    }
   ],
   "source": [
    "print str(u'a'), repr(str(u'a')), type(str(u'a'))\n",
    "print str(us)"
   ]
  },
  {
   "cell_type": "markdown",
   "metadata": {},
   "source": [
    "### 2. 字符串 to 字节流\n",
    "\n",
    "我们有一个字节流`\\xf0\\x9f\\x98\\x82`，当然就是😂 的utf-8编码。现在我想把它转成一个**真正的字符**，怎么办？\n",
    "\n",
    "同理，很多人想当然的也准备来一个“强制类型转换”：`unicode(s)`。\n",
    "\n",
    "在背后，实际执行的是：\n",
    "```python\n",
    "s.decode(sys.getdefaultencoding())  \n",
    "# Which is \n",
    "s.decode('ascii')\n",
    "```\n",
    "\n",
    "当字节流中只有0~127的字节时，也就是原来的字符串中只有ASCII字符，这样做是可以的。如若不然，ASCII解码器会认为这是个非法ASCII编码字节流而报错。"
   ]
  },
  {
   "cell_type": "code",
   "execution_count": 16,
   "metadata": {
    "collapsed": false
   },
   "outputs": [
    {
     "name": "stdout",
     "output_type": "stream",
     "text": [
      "a u'a' <type 'unicode'>\n"
     ]
    },
    {
     "ename": "UnicodeDecodeError",
     "evalue": "'ascii' codec can't decode byte 0xf0 in position 0: ordinal not in range(128)",
     "output_type": "error",
     "traceback": [
      "\u001b[0;31m\u001b[0m",
      "\u001b[0;31mUnicodeDecodeError\u001b[0mTraceback (most recent call last)",
      "\u001b[0;32m<ipython-input-16-1fc0fc8a937e>\u001b[0m in \u001b[0;36m<module>\u001b[0;34m()\u001b[0m\n\u001b[1;32m      1\u001b[0m \u001b[0;32mprint\u001b[0m \u001b[0municode\u001b[0m\u001b[0;34m(\u001b[0m\u001b[0;34m'a'\u001b[0m\u001b[0;34m)\u001b[0m\u001b[0;34m,\u001b[0m \u001b[0mrepr\u001b[0m\u001b[0;34m(\u001b[0m\u001b[0municode\u001b[0m\u001b[0;34m(\u001b[0m\u001b[0;34m'a'\u001b[0m\u001b[0;34m)\u001b[0m\u001b[0;34m)\u001b[0m\u001b[0;34m,\u001b[0m \u001b[0mtype\u001b[0m\u001b[0;34m(\u001b[0m\u001b[0municode\u001b[0m\u001b[0;34m(\u001b[0m\u001b[0;34m'a'\u001b[0m\u001b[0;34m)\u001b[0m\u001b[0;34m)\u001b[0m\u001b[0;34m\u001b[0m\u001b[0m\n\u001b[0;32m----> 2\u001b[0;31m \u001b[0;32mprint\u001b[0m \u001b[0municode\u001b[0m\u001b[0;34m(\u001b[0m\u001b[0ms\u001b[0m\u001b[0;34m)\u001b[0m\u001b[0;34m\u001b[0m\u001b[0m\n\u001b[0m",
      "\u001b[0;31mUnicodeDecodeError\u001b[0m: 'ascii' codec can't decode byte 0xf0 in position 0: ordinal not in range(128)"
     ]
    }
   ],
   "source": [
    "print unicode('a'), repr(unicode('a')), type(unicode('a'))\n",
    "print unicode(s)"
   ]
  },
  {
   "cell_type": "markdown",
   "metadata": {},
   "source": [
    "所以，当我们需要对字符串和字节串进行相互转换时，不要使用这种方式，而应当使用更科学的方法，也就是`decode`与`encode`方法。\n",
    "\n",
    "# 对字节串的解码(Decode)\n",
    "\n",
    "**解码(Decode)**是定义在字节串`<str>`上的操作。\n",
    "\n",
    "使用正确的**编码方案(CES)**对**字节串**解码可以获得对应的**字符串**，但如果使用了错误的CES进行**解码** ，就会出现**乱码** 甚至直接报错。\n",
    "\n",
    "例1中，使用`gbk`编码对字节串`s`解码，因为GBK为双字节编码，所以s正好四个字节，瞎猫碰上死耗子，解码成功。可惜解出来的是没有意义的乱码。\n",
    "\n",
    "例2中，这回我们换一个字符，`'蛤'`在`utf-8`下编码成三个字节`\\xe8\\x9b\\xa4`,在GBK编码看来，每个GBK字符都会编码成两个字节，出现单个的字节需要解码，一定是哪里出错了，所以就报了解码错误\n",
    "\n",
    "例3中，使用另一种编码`ascii`对字节串`s`解码，因为`\\xe8\\x9b\\xa4`中出现了大于0x7F的字节，ASCII认为这不是一个合法的ASCII编码字节串应该出现的字节，所以也报了解码错误。"
   ]
  },
  {
   "cell_type": "code",
   "execution_count": 7,
   "metadata": {
    "collapsed": false
   },
   "outputs": [
    {
     "name": "stdout",
     "output_type": "stream",
     "text": [
      "'\\xf0\\x9f\\x98\\x82' 馃槀\n"
     ]
    }
   ],
   "source": [
    "print repr(s),s.decode('gbk')"
   ]
  },
  {
   "cell_type": "code",
   "execution_count": 8,
   "metadata": {
    "collapsed": false
   },
   "outputs": [
    {
     "name": "stdout",
     "output_type": "stream",
     "text": [
      "'\\xe8\\x9b\\xa4'"
     ]
    },
    {
     "ename": "UnicodeDecodeError",
     "evalue": "'gbk' codec can't decode byte 0xa4 in position 2: incomplete multibyte sequence",
     "output_type": "error",
     "traceback": [
      "\u001b[0;31m\u001b[0m",
      "\u001b[0;31mUnicodeDecodeError\u001b[0mTraceback (most recent call last)",
      "\u001b[0;32m<ipython-input-8-d754e92a3a17>\u001b[0m in \u001b[0;36m<module>\u001b[0;34m()\u001b[0m\n\u001b[0;32m----> 1\u001b[0;31m \u001b[0;32mprint\u001b[0m \u001b[0mrepr\u001b[0m\u001b[0;34m(\u001b[0m\u001b[0;34m'蛤'\u001b[0m\u001b[0;34m)\u001b[0m\u001b[0;34m,\u001b[0m\u001b[0;34m'蛤'\u001b[0m\u001b[0;34m.\u001b[0m\u001b[0mdecode\u001b[0m\u001b[0;34m(\u001b[0m\u001b[0;34m'gbk'\u001b[0m\u001b[0;34m)\u001b[0m\u001b[0;34m\u001b[0m\u001b[0m\n\u001b[0m",
      "\u001b[0;31mUnicodeDecodeError\u001b[0m: 'gbk' codec can't decode byte 0xa4 in position 2: incomplete multibyte sequence"
     ]
    }
   ],
   "source": [
    "print repr('蛤'),'蛤'.decode('gbk')"
   ]
  },
  {
   "cell_type": "code",
   "execution_count": 9,
   "metadata": {
    "collapsed": false
   },
   "outputs": [
    {
     "name": "stdout",
     "output_type": "stream",
     "text": [
      " '\\xf0\\x9f\\x98\\x82'"
     ]
    },
    {
     "ename": "UnicodeDecodeError",
     "evalue": "'ascii' codec can't decode byte 0xf0 in position 0: ordinal not in range(128)",
     "output_type": "error",
     "traceback": [
      "\u001b[0;31m\u001b[0m",
      "\u001b[0;31mUnicodeDecodeError\u001b[0mTraceback (most recent call last)",
      "\u001b[0;32m<ipython-input-9-a4fc3fe3d8dd>\u001b[0m in \u001b[0;36m<module>\u001b[0;34m()\u001b[0m\n\u001b[0;32m----> 1\u001b[0;31m \u001b[0;32mprint\u001b[0m \u001b[0mrepr\u001b[0m\u001b[0;34m(\u001b[0m\u001b[0ms\u001b[0m\u001b[0;34m)\u001b[0m\u001b[0;34m,\u001b[0m\u001b[0ms\u001b[0m\u001b[0;34m.\u001b[0m\u001b[0mdecode\u001b[0m\u001b[0;34m(\u001b[0m\u001b[0;34m'ascii'\u001b[0m\u001b[0;34m)\u001b[0m\u001b[0;34m\u001b[0m\u001b[0m\n\u001b[0m",
      "\u001b[0;31mUnicodeDecodeError\u001b[0m: 'ascii' codec can't decode byte 0xf0 in position 0: ordinal not in range(128)"
     ]
    }
   ],
   "source": [
    "print repr(s),s.decode('ascii')"
   ]
  },
  {
   "cell_type": "markdown",
   "metadata": {},
   "source": [
    "### 对字符串`<unicode>`的'解码'\n",
    "\n",
    "**解码(Decode)**只能对**字节串`<str>`**进行。对**字符串`<unicode>`**解码毫无意义。\n",
    "虽然这么做也是可以的……\n",
    "例如\n",
    "```python\n",
    ">>> u'abc'.decode('utf-8')  # 对unicode字符串去解码，简直有毛病。但在纯ascii环境下也没什么问题。\n",
    "u'abc'\n",
    ">>> us.decode('utf-8')      # 可惜一旦出现非ASCII字符，这种行为就会付出代价……\n",
    "Traceback (most recent call last):\n",
    "  File \"<stdin>\", line 1, in <module>\n",
    "  File \"/usr/local/anaconda/lib/python2.7/encodings/utf_8.py\", line 16, in decode\n",
    "    return codecs.utf_8_decode(input, errors, True)\n",
    "UnicodeEncodeError: 'ascii' codec can't encode characters in position 0-1: ordinal not in range(128)\n",
    "```\n",
    "为什么会发生这个问题呢？因为对字符串`<unicode>`进行解码前，`python2`会认为这是一个愚蠢的动作，自作聪明的帮你先把这个字符串使用Python默认的编码方案转成**字节流`<str>`**，然后再进行解码。\n",
    "```\n",
    "<unicode>.decode(<encoding>) = <unicode>.encode(<PythonDefaultEncoding>).decode(<encoding>)\n",
    "```"
   ]
  },
  {
   "cell_type": "markdown",
   "metadata": {},
   "source": [
    "# 对字符串的编码(Encode)\n",
    "考察了**解码**之后，我们来考察一下**编码(Encode)**。**编码**是发生在**字符串`<unicode>`**上的操作。\n",
    "\n",
    "这里我们对字符串`us`：😂  使用不同的CES进行编码，我们会得到一系列不同的字节流。当然，这些CES都是Unicode标准定义的CES。"
   ]
  },
  {
   "cell_type": "code",
   "execution_count": 10,
   "metadata": {
    "collapsed": false
   },
   "outputs": [
    {
     "name": "stdout",
     "output_type": "stream",
     "text": [
      " utf-8     \t'\\xf0\\x9f\\x98\\x82'\n",
      "utf-16be  \t'\\xd8=\\xde\\x02'\n",
      "utf-16le  \t'=\\xd8\\x02\\xde'\n",
      "utf-16    \t'\\xff\\xfe=\\xd8\\x02\\xde'\n",
      "utf-32be  \t'\\x00\\x01\\xf6\\x02'\n",
      "utf-32le  \t'\\x02\\xf6\\x01\\x00'\n",
      "utf-32    \t'\\xff\\xfe\\x00\\x00\\x02\\xf6\\x01\\x00'\n"
     ]
    }
   ],
   "source": [
    "for encoding in ['utf-8','utf-16be','utf-16le','utf-16','utf-32be','utf-32le','utf-32']:\n",
    "    print \"%-10s\\t%s\"%(encoding,repr(us.encode(encoding)))"
   ]
  },
  {
   "cell_type": "markdown",
   "metadata": {},
   "source": [
    "我们不禁好奇，如果使用其他的CES进行编码，会发生什么。首先试一试对字符串😂 进行GBK编码。\n",
    "\n",
    "因为字符😂 并不属于GBK字符集，所以GBK编码器一脸懵逼，我怎么可能对不属于自己字符集的字符进行编码呢？"
   ]
  },
  {
   "cell_type": "code",
   "execution_count": 11,
   "metadata": {
    "collapsed": false
   },
   "outputs": [
    {
     "ename": "UnicodeEncodeError",
     "evalue": "'gbk' codec can't encode character u'\\ud83d' in position 0: illegal multibyte sequence",
     "output_type": "error",
     "traceback": [
      "\u001b[0;31m\u001b[0m",
      "\u001b[0;31mUnicodeEncodeError\u001b[0mTraceback (most recent call last)",
      "\u001b[0;32m<ipython-input-11-ee3fa68839b7>\u001b[0m in \u001b[0;36m<module>\u001b[0;34m()\u001b[0m\n\u001b[0;32m----> 1\u001b[0;31m \u001b[0mus\u001b[0m\u001b[0;34m.\u001b[0m\u001b[0mencode\u001b[0m\u001b[0;34m(\u001b[0m\u001b[0;34m'gbk'\u001b[0m\u001b[0;34m)\u001b[0m\u001b[0;34m\u001b[0m\u001b[0m\n\u001b[0m",
      "\u001b[0;31mUnicodeEncodeError\u001b[0m: 'gbk' codec can't encode character u'\\ud83d' in position 0: illegal multibyte sequence"
     ]
    }
   ],
   "source": [
    "us.encode('gbk')"
   ]
  },
  {
   "cell_type": "markdown",
   "metadata": {},
   "source": [
    "但是换句话说，如果一个UCS字符集中的字符同时也属于GBK字符集，比如说汉字“蛤”，那么就可以使用GBK编码了！"
   ]
  },
  {
   "cell_type": "code",
   "execution_count": 12,
   "metadata": {
    "collapsed": false
   },
   "outputs": [
    {
     "name": "stdout",
     "output_type": "stream",
     "text": [
      "蛤 <type 'unicode'> '\\xb8\\xf2'\n",
      "��\n"
     ]
    }
   ],
   "source": [
    "uha =  u'蛤'\n",
    "print uha,type(uha),repr(uha.encode('gbk'))   #可以，这很GBK！\n",
    "print uha.encode('gbk')                       #不行，虽然GBK编码成功，但是我的终端是UTF-8的，认不出GBK编码的字节流来。"
   ]
  },
  {
   "cell_type": "markdown",
   "metadata": {},
   "source": [
    "### 对字节串`<str>`的'编码'\n",
    "另一方面，我说过**编码(Encode)**只能对**字符串`<unicode>`**进行。但是有的同学不服，看，我对`<str>`也可以解码成功哟~"
   ]
  },
  {
   "cell_type": "code",
   "execution_count": 13,
   "metadata": {
    "collapsed": false
   },
   "outputs": [
    {
     "data": {
      "text/plain": [
       "('abc', '\\x00a\\x00b\\x00c', 'abc')"
      ]
     },
     "execution_count": 13,
     "metadata": {},
     "output_type": "execute_result"
    }
   ],
   "source": [
    "'abc'.encode('utf-8'),'abc'.encode('utf-16be'),'abc'.encode('gbk')"
   ]
  },
  {
   "cell_type": "markdown",
   "metadata": {},
   "source": [
    "之所以可以这样，是因为当`python2`对`<str>`进行**编码(Encode)**操作时，会首先对**字节流<str>**进行**解码**\n",
    "\n",
    "解码时使用的编码乃是Python2内部默认编码方案，也就是`US-ASCII`` （卧槽！！！）\n",
    "\n",
    "也就是说，如果这个**字节流<str>**中只有ASCII字符，其实是可以对`<str>`直接**'编码'**的。\n",
    "\n",
    "但如果这个字节流并不只有ASCII字符，在**编码**之前的**解码**中，就会出错！\n",
    "\n",
    "因为同“对字符串`<unicode>`解码”这个问题一样，对字节串`<str>`编码实质上是：\n",
    "```\n",
    "<str>.encode(<encoding>) = <str>.decode(<PythonDefaultEncoding>).encode(<encoding>)\n",
    "```"
   ]
  },
  {
   "cell_type": "code",
   "execution_count": 14,
   "metadata": {
    "collapsed": false
   },
   "outputs": [
    {
     "ename": "UnicodeDecodeError",
     "evalue": "'ascii' codec can't decode byte 0xe7 in position 0: ordinal not in range(128)",
     "output_type": "error",
     "traceback": [
      "\u001b[0;31m\u001b[0m",
      "\u001b[0;31mUnicodeDecodeError\u001b[0mTraceback (most recent call last)",
      "\u001b[0;32m<ipython-input-14-4c21e7ac1118>\u001b[0m in \u001b[0;36m<module>\u001b[0;34m()\u001b[0m\n\u001b[0;32m----> 1\u001b[0;31m \u001b[0;34m'续命'\u001b[0m\u001b[0;34m.\u001b[0m\u001b[0mencode\u001b[0m\u001b[0;34m(\u001b[0m\u001b[0;34m'utf-8'\u001b[0m\u001b[0;34m)\u001b[0m\u001b[0;34m\u001b[0m\u001b[0m\n\u001b[0m",
      "\u001b[0;31mUnicodeDecodeError\u001b[0m: 'ascii' codec can't decode byte 0xe7 in position 0: ordinal not in range(128)"
     ]
    }
   ],
   "source": [
    "'续命'.encode('utf-8')"
   ]
  },
  {
   "cell_type": "markdown",
   "metadata": {},
   "source": [
    "# 坑爹的Python内部默认编码\n",
    "\n",
    "但是！如果我们修改Python内部的默认CES为`utf-8`，同样的问题竟然不报错了！\n",
    "\n",
    "这说明了，当对`<str>`进行编码时，`python2`首先会使用内部默认的CES，也就是`ASCII`进行解码后再进行编码！。\n",
    "\n",
    "所以当我们修改了`python2`解释器的内部默认CES为`utf-8`后，这个`字节串<str>`竟然可以直接'编码'了。\n",
    "\n",
    "这种巫毒编程方式可以“解决”很多编码问题，因为互联网上很多数据都是UTF-8编码的。但是不！要！这！样！做！"
   ]
  },
  {
   "cell_type": "markdown",
   "metadata": {},
   "source": [
    "```python\n",
    "In [1]: import sys;reload(sys);sys.setdefaultencoding('utf-8')  # Dirty Hack !!!\n",
    "\n",
    "In [2]: '续命'.encode('utf-8')      # 本来应该报错的！\n",
    "'\\xe7\\xbb\\xad\\xe5\\x91\\xbd'\n",
    "\n",
    "In [3]: u'续命'.decode('utf-8')     # 无法直视！\n",
    "u'\\u7eed\\u547d'\n",
    "```"
   ]
  },
  {
   "cell_type": "markdown",
   "metadata": {},
   "source": [
    "# 坑爹的Python源文件默认编码\n",
    "\n",
    "在上面一个例子中，可能有同学会尝试把代码放到文件里运行。例如：\n",
    "```\n",
    "echo \"import sys;reload(sys);sys.setdefaultencoding('utf-8')\" >> shit.py\n",
    "echo \"'续命'.encode('utf-8')\" >> shit.py\n",
    "python shit.py\n",
    "```\n",
    "结果编码错误出没出还不知道，竟然先给我报了个语法错误！\n",
    "```\n",
    "  File \"shit.py\", line 2\n",
    "SyntaxError: Non-ASCII character '\\xe7' in file shit.py on line 2, but no encoding declared; see http://python.org/dev/peps/pep-0263/ for details\n",
    "```\n",
    "这是因为**Python源文件**默认的编码J竟然也是`US-ASCII`。现在里面竟然出现了中文字符！不行，这不ASCII，得报错！\n",
    "\n",
    "解决方案是在源文件头部加上一句\n",
    "```\n",
    "# -*- coding: utf-8 -*-\n",
    "```\n",
    "当然你也可以用别的编码，比如中文windows下很可能你就会写\n",
    "```\n",
    "# -*- coding: gbk -*-\n",
    "```"
   ]
  },
  {
   "cell_type": "code",
   "execution_count": 16,
   "metadata": {
    "collapsed": false
   },
   "outputs": [
    {
     "name": "stdout",
     "output_type": "stream",
     "text": [
      "utf-8     \t'\\xf0\\x9f\\x98\\x82'\n",
      "utf-16be  \t'\\xd8=\\xde\\x02'\n",
      "utf-16le  \t'=\\xd8\\x02\\xde'\n",
      "utf-16    \t'\\xff\\xfe=\\xd8\\x02\\xde'\n",
      "utf-32be  \t'\\x00\\x01\\xf6\\x02'\n",
      "utf-32le  \t'\\x02\\xf6\\x01\\x00'\n",
      "utf-32    \t'\\xff\\xfe\\x00\\x00\\x02\\xf6\\x01\\x00'\n"
     ]
    }
   ],
   "source": [
    "for encoding in ['utf-8','utf-16be','utf-16le','utf-16','utf-32be','utf-32le','utf-32']:\n",
    "    print \"%-10s\\t%s\"%(encoding,repr(us.encode(encoding)))"
   ]
  },
  {
   "cell_type": "markdown",
   "metadata": {},
   "source": [
    "UTF8将😂 编码成了四个字节`0xF0 0x9F 0x98 0x82`。\n",
    "\n",
    "UTF-16BE是大端编码，所以被编码为`0xD8 0x3D 0xDE 0x02`\n",
    "\n",
    "UTF-16LE是小端编码，所以每个二字节的码元内大小字节排列次序正好相反，编码为`0x3D 0xD8 0x02 0xDE`\n",
    "\n",
    "UTF-16默认采用小端编码且带BOM，所以编码为`0xFF 0xFE 0x3D 0xD8 0x02 0xDE`。 `0xFFFE`是BOM，代表小端序。\n",
    "\n",
    "UTF-32与UTF-16基本同理。"
   ]
  },
  {
   "cell_type": "code",
   "execution_count": null,
   "metadata": {
    "collapsed": true
   },
   "outputs": [],
   "source": []
  }
 ],
 "metadata": {
  "anaconda-cloud": {},
  "kernelspec": {
   "display_name": "Python [Root]",
   "language": "python",
   "name": "Python [Root]"
  },
  "language_info": {
   "codemirror_mode": {
    "name": "ipython",
    "version": 3
   },
   "file_extension": ".py",
   "mimetype": "text/x-python",
   "name": "python",
   "nbconvert_exporter": "python",
   "pygments_lexer": "ipython3",
   "version": "3.5.2"
  },
  "latex_envs": {
   "bibliofile": "biblio.bib",
   "cite_by": "apalike",
   "current_citInitial": 1,
   "eqLabelWithNumbers": true,
   "eqNumInitial": 0
  },
  "nav_menu": {},
  "toc": {
   "navigate_menu": true,
   "number_sections": false,
   "sideBar": true,
   "threshold": 6,
   "toc_cell": false,
   "toc_section_display": "none",
   "toc_window_display": false
  }
 },
 "nbformat": 4,
 "nbformat_minor": 0
}
